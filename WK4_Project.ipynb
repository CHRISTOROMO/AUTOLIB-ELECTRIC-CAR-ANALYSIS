{
 "cells": [
  {
   "cell_type": "markdown",
   "metadata": {},
   "source": [
    "#### Importing our Libraries"
   ]
  },
  {
   "cell_type": "code",
   "execution_count": 2,
   "metadata": {},
   "outputs": [],
   "source": [
    "# Importing the libraries we will need \n",
    "\n",
    "# Importing the pandas library\n",
    "# \n",
    "import pandas as pd\n",
    "\n",
    "# Importing the numpy library\n",
    "#\n",
    "import numpy as np"
   ]
  },
  {
   "cell_type": "markdown",
   "metadata": {},
   "source": [
    "#### Reading the Dataset from our CSV file"
   ]
  },
  {
   "cell_type": "markdown",
   "metadata": {},
   "source": [
    "##### The dataset we will use contains inforamtion about an electric car-sharing(Bluecar) service company."
   ]
  },
  {
   "cell_type": "code",
   "execution_count": 112,
   "metadata": {},
   "outputs": [],
   "source": [
    "url = 'http://bit.ly/autolib_dataset'\n",
    "\n",
    "df = pd.read_csv(url)\n"
   ]
  },
  {
   "cell_type": "markdown",
   "metadata": {},
   "source": [
    "##### Previewing our Dataset"
   ]
  },
  {
   "cell_type": "code",
   "execution_count": 113,
   "metadata": {},
   "outputs": [
    {
     "data": {
      "text/html": [
       "<div>\n",
       "<style scoped>\n",
       "    .dataframe tbody tr th:only-of-type {\n",
       "        vertical-align: middle;\n",
       "    }\n",
       "\n",
       "    .dataframe tbody tr th {\n",
       "        vertical-align: top;\n",
       "    }\n",
       "\n",
       "    .dataframe thead th {\n",
       "        text-align: right;\n",
       "    }\n",
       "</style>\n",
       "<table border=\"1\" class=\"dataframe\">\n",
       "  <thead>\n",
       "    <tr style=\"text-align: right;\">\n",
       "      <th></th>\n",
       "      <th>Address</th>\n",
       "      <th>Cars</th>\n",
       "      <th>Bluecar counter</th>\n",
       "      <th>Utilib counter</th>\n",
       "      <th>Utilib 1.4 counter</th>\n",
       "      <th>Charge Slots</th>\n",
       "      <th>Charging Status</th>\n",
       "      <th>City</th>\n",
       "      <th>Displayed comment</th>\n",
       "      <th>ID</th>\n",
       "      <th>...</th>\n",
       "      <th>Scheduled at</th>\n",
       "      <th>Slots</th>\n",
       "      <th>Station type</th>\n",
       "      <th>Status</th>\n",
       "      <th>Subscription status</th>\n",
       "      <th>year</th>\n",
       "      <th>month</th>\n",
       "      <th>day</th>\n",
       "      <th>hour</th>\n",
       "      <th>minute</th>\n",
       "    </tr>\n",
       "  </thead>\n",
       "  <tbody>\n",
       "    <tr>\n",
       "      <th>0</th>\n",
       "      <td>2 Avenue de Suffren</td>\n",
       "      <td>0</td>\n",
       "      <td>0</td>\n",
       "      <td>0</td>\n",
       "      <td>0</td>\n",
       "      <td>0</td>\n",
       "      <td>nonexistent</td>\n",
       "      <td>Paris</td>\n",
       "      <td>NaN</td>\n",
       "      <td>paris-suffren-2</td>\n",
       "      <td>...</td>\n",
       "      <td>NaN</td>\n",
       "      <td>2</td>\n",
       "      <td>station</td>\n",
       "      <td>ok</td>\n",
       "      <td>nonexistent</td>\n",
       "      <td>2018</td>\n",
       "      <td>4</td>\n",
       "      <td>8</td>\n",
       "      <td>11</td>\n",
       "      <td>43</td>\n",
       "    </tr>\n",
       "    <tr>\n",
       "      <th>1</th>\n",
       "      <td>145 Rue Raymond Losserand</td>\n",
       "      <td>6</td>\n",
       "      <td>6</td>\n",
       "      <td>0</td>\n",
       "      <td>0</td>\n",
       "      <td>0</td>\n",
       "      <td>operational</td>\n",
       "      <td>Paris</td>\n",
       "      <td>NaN</td>\n",
       "      <td>paris-raymondlosserand-145</td>\n",
       "      <td>...</td>\n",
       "      <td>NaN</td>\n",
       "      <td>0</td>\n",
       "      <td>station</td>\n",
       "      <td>ok</td>\n",
       "      <td>nonexistent</td>\n",
       "      <td>2018</td>\n",
       "      <td>4</td>\n",
       "      <td>6</td>\n",
       "      <td>7</td>\n",
       "      <td>24</td>\n",
       "    </tr>\n",
       "    <tr>\n",
       "      <th>2</th>\n",
       "      <td>2 Avenue John Fitzgerald Kennedy</td>\n",
       "      <td>3</td>\n",
       "      <td>3</td>\n",
       "      <td>0</td>\n",
       "      <td>2</td>\n",
       "      <td>0</td>\n",
       "      <td>operational</td>\n",
       "      <td>Le Bourget</td>\n",
       "      <td>NaN</td>\n",
       "      <td>lebourget-johnfitzgeraldkennedy-2</td>\n",
       "      <td>...</td>\n",
       "      <td>NaN</td>\n",
       "      <td>1</td>\n",
       "      <td>station</td>\n",
       "      <td>ok</td>\n",
       "      <td>nonexistent</td>\n",
       "      <td>2018</td>\n",
       "      <td>4</td>\n",
       "      <td>3</td>\n",
       "      <td>20</td>\n",
       "      <td>14</td>\n",
       "    </tr>\n",
       "    <tr>\n",
       "      <th>3</th>\n",
       "      <td>51 Rue EugÃ¨ne OudinÃ©</td>\n",
       "      <td>3</td>\n",
       "      <td>3</td>\n",
       "      <td>1</td>\n",
       "      <td>0</td>\n",
       "      <td>1</td>\n",
       "      <td>operational</td>\n",
       "      <td>Paris</td>\n",
       "      <td>NaN</td>\n",
       "      <td>paris-eugeneoudine-51</td>\n",
       "      <td>...</td>\n",
       "      <td>NaN</td>\n",
       "      <td>2</td>\n",
       "      <td>station</td>\n",
       "      <td>ok</td>\n",
       "      <td>nonexistent</td>\n",
       "      <td>2018</td>\n",
       "      <td>4</td>\n",
       "      <td>4</td>\n",
       "      <td>4</td>\n",
       "      <td>37</td>\n",
       "    </tr>\n",
       "    <tr>\n",
       "      <th>4</th>\n",
       "      <td>6 avenue de la Porte de Champerret</td>\n",
       "      <td>3</td>\n",
       "      <td>3</td>\n",
       "      <td>0</td>\n",
       "      <td>0</td>\n",
       "      <td>0</td>\n",
       "      <td>nonexistent</td>\n",
       "      <td>Paris</td>\n",
       "      <td>NaN</td>\n",
       "      <td>paris-portedechamperret-6</td>\n",
       "      <td>...</td>\n",
       "      <td>NaN</td>\n",
       "      <td>3</td>\n",
       "      <td>station</td>\n",
       "      <td>ok</td>\n",
       "      <td>nonexistent</td>\n",
       "      <td>2018</td>\n",
       "      <td>4</td>\n",
       "      <td>8</td>\n",
       "      <td>17</td>\n",
       "      <td>23</td>\n",
       "    </tr>\n",
       "  </tbody>\n",
       "</table>\n",
       "<p>5 rows × 25 columns</p>\n",
       "</div>"
      ],
      "text/plain": [
       "                              Address  Cars  Bluecar counter  Utilib counter  \\\n",
       "0                 2 Avenue de Suffren     0                0               0   \n",
       "1           145 Rue Raymond Losserand     6                6               0   \n",
       "2    2 Avenue John Fitzgerald Kennedy     3                3               0   \n",
       "3              51 Rue EugÃ¨ne OudinÃ©     3                3               1   \n",
       "4  6 avenue de la Porte de Champerret     3                3               0   \n",
       "\n",
       "   Utilib 1.4 counter  Charge Slots Charging Status        City  \\\n",
       "0                   0             0     nonexistent       Paris   \n",
       "1                   0             0     operational       Paris   \n",
       "2                   2             0     operational  Le Bourget   \n",
       "3                   0             1     operational       Paris   \n",
       "4                   0             0     nonexistent       Paris   \n",
       "\n",
       "  Displayed comment                                 ID  ... Scheduled at  \\\n",
       "0               NaN                    paris-suffren-2  ...          NaN   \n",
       "1               NaN         paris-raymondlosserand-145  ...          NaN   \n",
       "2               NaN  lebourget-johnfitzgeraldkennedy-2  ...          NaN   \n",
       "3               NaN              paris-eugeneoudine-51  ...          NaN   \n",
       "4               NaN          paris-portedechamperret-6  ...          NaN   \n",
       "\n",
       "  Slots  Station type Status Subscription status  year  month day hour minute  \n",
       "0     2       station     ok         nonexistent  2018      4   8   11     43  \n",
       "1     0       station     ok         nonexistent  2018      4   6    7     24  \n",
       "2     1       station     ok         nonexistent  2018      4   3   20     14  \n",
       "3     2       station     ok         nonexistent  2018      4   4    4     37  \n",
       "4     3       station     ok         nonexistent  2018      4   8   17     23  \n",
       "\n",
       "[5 rows x 25 columns]"
      ]
     },
     "execution_count": 113,
     "metadata": {},
     "output_type": "execute_result"
    }
   ],
   "source": [
    "df.head()"
   ]
  },
  {
   "cell_type": "markdown",
   "metadata": {},
   "source": [
    "##### Accessing Information about our Dataset"
   ]
  },
  {
   "cell_type": "code",
   "execution_count": 114,
   "metadata": {},
   "outputs": [
    {
     "name": "stdout",
     "output_type": "stream",
     "text": [
      "<class 'pandas.core.frame.DataFrame'>\n",
      "RangeIndex: 5000 entries, 0 to 4999\n",
      "Data columns (total 25 columns):\n",
      " #   Column               Non-Null Count  Dtype \n",
      "---  ------               --------------  ----- \n",
      " 0   Address              5000 non-null   object\n",
      " 1   Cars                 5000 non-null   int64 \n",
      " 2   Bluecar counter      5000 non-null   int64 \n",
      " 3   Utilib counter       5000 non-null   int64 \n",
      " 4   Utilib 1.4 counter   5000 non-null   int64 \n",
      " 5   Charge Slots         5000 non-null   int64 \n",
      " 6   Charging Status      5000 non-null   object\n",
      " 7   City                 5000 non-null   object\n",
      " 8   Displayed comment    111 non-null    object\n",
      " 9   ID                   5000 non-null   object\n",
      " 10  Kind                 5000 non-null   object\n",
      " 11  Geo point            5000 non-null   object\n",
      " 12  Postal code          5000 non-null   int64 \n",
      " 13  Public name          5000 non-null   object\n",
      " 14  Rental status        5000 non-null   object\n",
      " 15  Scheduled at         47 non-null     object\n",
      " 16  Slots                5000 non-null   int64 \n",
      " 17  Station type         5000 non-null   object\n",
      " 18  Status               5000 non-null   object\n",
      " 19  Subscription status  5000 non-null   object\n",
      " 20  year                 5000 non-null   int64 \n",
      " 21  month                5000 non-null   int64 \n",
      " 22  day                  5000 non-null   int64 \n",
      " 23  hour                 5000 non-null   int64 \n",
      " 24  minute               5000 non-null   int64 \n",
      "dtypes: int64(12), object(13)\n",
      "memory usage: 976.7+ KB\n"
     ]
    }
   ],
   "source": [
    "# We can getting to know more about the dataset by accessing its information \n",
    "#\n",
    "df.info()"
   ]
  },
  {
   "cell_type": "code",
   "execution_count": 115,
   "metadata": {},
   "outputs": [
    {
     "data": {
      "text/plain": [
       "(5000, 25)"
      ]
     },
     "execution_count": 115,
     "metadata": {},
     "output_type": "execute_result"
    }
   ],
   "source": [
    "df.shape"
   ]
  },
  {
   "cell_type": "markdown",
   "metadata": {},
   "source": [
    "#### Cleaning the dataset"
   ]
  },
  {
   "cell_type": "markdown",
   "metadata": {},
   "source": [
    "###### Checking for Null values"
   ]
  },
  {
   "cell_type": "code",
   "execution_count": 116,
   "metadata": {},
   "outputs": [
    {
     "data": {
      "text/plain": [
       "Address                   0\n",
       "Cars                      0\n",
       "Bluecar counter           0\n",
       "Utilib counter            0\n",
       "Utilib 1.4 counter        0\n",
       "Charge Slots              0\n",
       "Charging Status           0\n",
       "City                      0\n",
       "Displayed comment      4889\n",
       "ID                        0\n",
       "Kind                      0\n",
       "Geo point                 0\n",
       "Postal code               0\n",
       "Public name               0\n",
       "Rental status             0\n",
       "Scheduled at           4953\n",
       "Slots                     0\n",
       "Station type              0\n",
       "Status                    0\n",
       "Subscription status       0\n",
       "year                      0\n",
       "month                     0\n",
       "day                       0\n",
       "hour                      0\n",
       "minute                    0\n",
       "dtype: int64"
      ]
     },
     "execution_count": 116,
     "metadata": {},
     "output_type": "execute_result"
    }
   ],
   "source": [
    "df.isnull().sum()"
   ]
  },
  {
   "cell_type": "code",
   "execution_count": 117,
   "metadata": {},
   "outputs": [
    {
     "data": {
      "text/plain": [
       "Address                0\n",
       "Cars                   0\n",
       "Bluecar counter        0\n",
       "Utilib counter         0\n",
       "Utilib 1.4 counter     0\n",
       "Charge Slots           0\n",
       "Charging Status        0\n",
       "City                   0\n",
       "ID                     0\n",
       "Kind                   0\n",
       "Geo point              0\n",
       "Postal code            0\n",
       "Public name            0\n",
       "Rental status          0\n",
       "Slots                  0\n",
       "Station type           0\n",
       "Status                 0\n",
       "Subscription status    0\n",
       "year                   0\n",
       "month                  0\n",
       "day                    0\n",
       "hour                   0\n",
       "minute                 0\n",
       "dtype: int64"
      ]
     },
     "execution_count": 117,
     "metadata": {},
     "output_type": "execute_result"
    }
   ],
   "source": [
    "# We have Null Values at 'Displayed Comment' and 'Scheduled at' columns and we shall get rid of the columns because they are not relevant\n",
    "\n",
    "df.drop(['Displayed comment'],axis=1,inplace=True)\n",
    "df.drop(['Scheduled at'],axis=1,inplace=True)\n",
    "df.isnull().sum()"
   ]
  },
  {
   "cell_type": "markdown",
   "metadata": {},
   "source": [
    "##### Checking for Duplicates"
   ]
  },
  {
   "cell_type": "code",
   "execution_count": 119,
   "metadata": {},
   "outputs": [
    {
     "data": {
      "text/plain": [
       "0"
      ]
     },
     "execution_count": 119,
     "metadata": {},
     "output_type": "execute_result"
    }
   ],
   "source": [
    "df.duplicated().sum()"
   ]
  },
  {
   "cell_type": "markdown",
   "metadata": {},
   "source": [
    "#### Checking for Unique Values"
   ]
  },
  {
   "cell_type": "code",
   "execution_count": 120,
   "metadata": {},
   "outputs": [
    {
     "data": {
      "text/plain": [
       "Address                1104\n",
       "Cars                      8\n",
       "Bluecar counter           8\n",
       "Utilib counter            3\n",
       "Utilib 1.4 counter        4\n",
       "Charge Slots              3\n",
       "Charging Status           3\n",
       "City                     88\n",
       "ID                     1105\n",
       "Kind                      4\n",
       "Geo point              1105\n",
       "Postal code             107\n",
       "Public name            1105\n",
       "Rental status             4\n",
       "Slots                     8\n",
       "Station type              3\n",
       "Status                    3\n",
       "Subscription status       3\n",
       "year                      1\n",
       "month                     1\n",
       "day                       9\n",
       "hour                     24\n",
       "minute                   60\n",
       "dtype: int64"
      ]
     },
     "execution_count": 120,
     "metadata": {},
     "output_type": "execute_result"
    }
   ],
   "source": [
    "df.nunique()"
   ]
  },
  {
   "cell_type": "code",
   "execution_count": 17,
   "metadata": {},
   "outputs": [
    {
     "data": {
      "text/plain": [
       "Index(['Address', 'Cars', 'Bluecar counter', 'Utilib counter',\n",
       "       'Utilib 1.4 counter', 'Charge Slots', 'Charging Status', 'City',\n",
       "       'Displayed comment', 'ID', 'Kind', 'Geo point', 'Postal code',\n",
       "       'Public name', 'Rental status', 'Scheduled at', 'Slots', 'Station type',\n",
       "       'Status', 'Subscription status', 'year', 'month', 'day', 'hour',\n",
       "       'minute'],\n",
       "      dtype='object')"
      ]
     },
     "execution_count": 17,
     "metadata": {},
     "output_type": "execute_result"
    }
   ],
   "source": [
    "df.columns"
   ]
  },
  {
   "cell_type": "markdown",
   "metadata": {},
   "source": [
    "### Answering the Questions"
   ]
  },
  {
   "cell_type": "markdown",
   "metadata": {},
   "source": [
    "##### The most popular hour of the day for picking up a shared electric car (Bluecar) in the city of Paris over the month of April 2018."
   ]
  },
  {
   "cell_type": "code",
   "execution_count": 32,
   "metadata": {},
   "outputs": [
    {
     "data": {
      "text/plain": [
       "hour\n",
       "21    147\n",
       "Name: Bluecar counter, dtype: int64"
      ]
     },
     "execution_count": 32,
     "metadata": {},
     "output_type": "execute_result"
    }
   ],
   "source": [
    "df1 = df[(df['City']=='Paris')&(df['year']==2018)] \n",
    "df1.groupby('hour')['Bluecar counter'].count().sort_values(ascending=False).head(1)"
   ]
  },
  {
   "cell_type": "markdown",
   "metadata": {},
   "source": [
    "#### What is the most popular hour for returning cars?"
   ]
  },
  {
   "cell_type": "code",
   "execution_count": 33,
   "metadata": {},
   "outputs": [
    {
     "data": {
      "text/plain": [
       "hour\n",
       "21    237\n",
       "Name: Cars, dtype: int64"
      ]
     },
     "execution_count": 33,
     "metadata": {},
     "output_type": "execute_result"
    }
   ],
   "source": [
    "df.groupby('hour')['Cars'].count().sort_values(ascending=False).head(1)"
   ]
  },
  {
   "cell_type": "markdown",
   "metadata": {},
   "source": [
    "##### What station is the most popular Overall?"
   ]
  },
  {
   "cell_type": "code",
   "execution_count": 39,
   "metadata": {},
   "outputs": [
    {
     "data": {
      "text/plain": [
       "Bluecar counter    11668\n",
       "dtype: int64"
      ]
     },
     "execution_count": 39,
     "metadata": {},
     "output_type": "execute_result"
    }
   ],
   "source": [
    "df[['Bluecar counter','Utilib counter','Utilib 1.4 counter']].sum().sort_values(ascending=False).head(1)"
   ]
  },
  {
   "cell_type": "code",
   "execution_count": null,
   "metadata": {},
   "outputs": [],
   "source": [
    "# From the above results Bluecar counter is the most popular station overall with 11668 cars"
   ]
  },
  {
   "cell_type": "markdown",
   "metadata": {},
   "source": [
    "##### What station is the most popular at the most popular picking hour?"
   ]
  },
  {
   "cell_type": "code",
   "execution_count": 62,
   "metadata": {},
   "outputs": [
    {
     "data": {
      "text/plain": [
       "Bluecar counter    34\n",
       "dtype: int64"
      ]
     },
     "execution_count": 62,
     "metadata": {},
     "output_type": "execute_result"
    }
   ],
   "source": [
    "df[(df['hour']==21)&(df['Cars']==1)][['Bluecar counter', 'Utilib counter', 'Utilib 1.4 counter']].sum().sort_values(ascending=False).head(1)"
   ]
  },
  {
   "cell_type": "markdown",
   "metadata": {},
   "source": [
    "##### What postal code is the most popular for picking up Blue cars overall?"
   ]
  },
  {
   "cell_type": "code",
   "execution_count": 67,
   "metadata": {},
   "outputs": [
    {
     "data": {
      "text/plain": [
       "Postal code\n",
       "75015    274\n",
       "Name: Bluecar counter, dtype: int64"
      ]
     },
     "execution_count": 67,
     "metadata": {},
     "output_type": "execute_result"
    }
   ],
   "source": [
    "df.groupby('Postal code')['Bluecar counter'].count().sort_values(ascending=False).head(1)"
   ]
  },
  {
   "cell_type": "markdown",
   "metadata": {},
   "source": [
    "##### What postal code is the most popular for picking up Blue cars at the most popular picking hour?"
   ]
  },
  {
   "cell_type": "code",
   "execution_count": 80,
   "metadata": {},
   "outputs": [
    {
     "data": {
      "text/plain": [
       "Bluecar counter    34\n",
       "dtype: int64"
      ]
     },
     "execution_count": 80,
     "metadata": {},
     "output_type": "execute_result"
    }
   ],
   "source": [
    "df[(df['hour']==21)&(df['Cars']==1)][['Bluecar counter', 'Utilib counter', 'Utilib 1.4 counter']].sum().sort_values(ascending=False).head(1)"
   ]
  },
  {
   "cell_type": "markdown",
   "metadata": {},
   "source": [
    "#### Does the most popular station belong to that postal code overall?"
   ]
  },
  {
   "cell_type": "code",
   "execution_count": 94,
   "metadata": {},
   "outputs": [
    {
     "data": {
      "text/plain": [
       "False"
      ]
     },
     "execution_count": 94,
     "metadata": {},
     "output_type": "execute_result"
    }
   ],
   "source": [
    "df[(df['Postal code']==75015)&(df['Bluecar counter']>=1)]['Bluecar counter'].count() == df[(df['Postal code']==75015)&(df['Bluecar counter']>=1)]['Bluecar counter'].sum()"
   ]
  },
  {
   "cell_type": "markdown",
   "metadata": {},
   "source": [
    "#### Does the most popular station belong to that postal code  at the most popular picking hour?"
   ]
  },
  {
   "cell_type": "code",
   "execution_count": 96,
   "metadata": {},
   "outputs": [
    {
     "data": {
      "text/plain": [
       "Bluecar counter    True\n",
       "dtype: bool"
      ]
     },
     "execution_count": 96,
     "metadata": {},
     "output_type": "execute_result"
    }
   ],
   "source": [
    "df[(df['Postal code']==75015)&(df['Bluecar counter']>=1)]['Bluecar counter'].count() == df[(df['Postal code']==75015)&(df['Bluecar counter']>=1)]['Bluecar counter'].sum()\n",
    "\n",
    "df[(df['hour']==21)&(df['Cars']==1)][['Bluecar counter', 'Utilib counter', 'Utilib 1.4 counter']].sum().sort_values(ascending=False).head(1)>0"
   ]
  },
  {
   "cell_type": "markdown",
   "metadata": {},
   "source": [
    "##### Do the results change if you consider Utilib and Utilib 1.4 instead of Blue cars? "
   ]
  },
  {
   "cell_type": "code",
   "execution_count": 101,
   "metadata": {},
   "outputs": [
    {
     "data": {
      "text/plain": [
       "Utilib 1.4 counter    True\n",
       "dtype: bool"
      ]
     },
     "execution_count": 101,
     "metadata": {},
     "output_type": "execute_result"
    }
   ],
   "source": [
    "df[['Utilib counter', 'Utilib 1.4 counter']].sum().sort_values(ascending=False).head(1) > 0"
   ]
  }
 ],
 "metadata": {
  "interpreter": {
   "hash": "1e915f0a29dc84041eaeb02b7b1a21c440e37a87b61d44d5e84a515737dc82bc"
  },
  "kernelspec": {
   "display_name": "Python 3.9.7 ('base')",
   "language": "python",
   "name": "python3"
  },
  "language_info": {
   "codemirror_mode": {
    "name": "ipython",
    "version": 3
   },
   "file_extension": ".py",
   "mimetype": "text/x-python",
   "name": "python",
   "nbconvert_exporter": "python",
   "pygments_lexer": "ipython3",
   "version": "3.9.7"
  },
  "orig_nbformat": 4
 },
 "nbformat": 4,
 "nbformat_minor": 2
}
